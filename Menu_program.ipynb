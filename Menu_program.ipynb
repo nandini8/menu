{
 "cells": [
  {
   "cell_type": "markdown",
   "metadata": {},
   "source": [
    "# Menu Program\n",
    "## DO NOT EDIT THIS OR ADD ANYTHING IN THIS"
   ]
  },
  {
   "cell_type": "code",
   "execution_count": 1,
   "metadata": {},
   "outputs": [],
   "source": [
    "def configure_hhtp_server(host):\n",
    "    config_http = 'ansible-playbook ./final_playbooks/http_server.yml --extra-vars \"host=' + host +'\"'\n",
    "#     print(config_http)\n",
    "    output = sb.getoutput(config_http)\n",
    "    return(output)\n"
   ]
  },
  {
   "cell_type": "code",
   "execution_count": 4,
   "metadata": {},
   "outputs": [],
   "source": [
    "def service_management(service, state):\n",
    "    if state == 'start':\n",
    "        state = 'started'\n",
    "    elif state == 'stop':\n",
    "        state = 'stopped'\n",
    "#     output = sb.getoutput(service_mgm)\n",
    "    output = sb.getoutput('ansible-playbook ./final_playbooks/service_manage.yml --extra-vars \"service='+service+' states='+state+'\"')\n",
    "    print(output)\n",
    "    return output"
   ]
  },
  {
   "cell_type": "code",
   "execution_count": 5,
   "metadata": {},
   "outputs": [],
   "source": [
    "def linux_commands(service, host):\n",
    "    output = sb.getoutput(\"ansible-playbook ./final_playbooks/linux_command.yml --extra-vars 'host=\"+host+\" commands=\\'\"+service+\"\\''\")\n",
    "#     output = sb.getoutput(basic_command)\n",
    "    print(output)\n",
    "    return output"
   ]
  },
  {
   "cell_type": "code",
   "execution_count": 6,
   "metadata": {},
   "outputs": [],
   "source": [
    "def launch_docker():\n",
    "    output = sb.getoutput(\"\")\n",
    "    print(output)\n",
    "    return output"
   ]
  },
  {
   "cell_type": "code",
   "execution_count": 7,
   "metadata": {},
   "outputs": [],
   "source": [
    "def create_partition(host):\n",
    "    create_part = \"ansible-playbook ./final_playbooks/part.yml --extra-vars 'host=\"+host+\" disk=/dev/sdb end=1GiB'\"\n",
    "    formate_part = 'ansible-playbook ./final_playbooks/mkfs.yml --extra-vars \"host='+ host +' dev1=/dev/sdb1 type1=ext4\"'\n",
    "    mount_part = 'ansible-playbook  ./final_playbooks/mount.yml --extra-vars \"host='+host+' state=mounted  device=/dev/sdb1 type=ext4 point=/pg\"'\n",
    "\n",
    "    print(mount_part)\n",
    "    output = sb.getoutput(create_part)\n",
    "    if 'failed=0' not in output and 'unreachable=0' not in output:\n",
    "        return output\n",
    "    else:\n",
    "        output = sb.getoutput(formate_part)\n",
    "        if 'failed=0' not in output and 'unreachable=0' not in output:\n",
    "            return output\n",
    "        else:\n",
    "            output = sb.getoutput(mount_part)\n",
    "            if 'failed=0' in output and 'unreachable=0' in output:\n",
    "                return output\n",
    "            else:\n",
    "                return \"failed=1\""
   ]
  },
  {
   "cell_type": "code",
   "execution_count": 8,
   "metadata": {},
   "outputs": [],
   "source": [
    "def create_lvm(host):\n",
    "    create_vg = 'ansible-playbook ./final_playbooks/vg.yml --extra-vars \"host='+ host +' state=present  pvlist=/dev/sdb1  vgname=yellow size=32\"'\n",
    "    create_lv = 'ansible-playbook ./final_playbooks/lv.yml --extra-vars \"host='+host+'sta=present  device=/dev/sdb1  vgname=yellow lvname=yeo size=700M\"'\n",
    "    formate_part = 'ansible-playbook ./final_playbooks/mkfs.yml --extra-vars \"host='+host+'dev1=/dev/yellow/yeo type1=ext4\"'\n",
    "    mount_part =  'ansible-playbook  ./final_playbooks/mount.yml --extra-vars \"host='+host+'state=mounted  device=/dev/yellow/yeo type=ext4 point=/p3\"'\n",
    "\n",
    "    output = sb.getoutput(create_vg)\n",
    "    if 'failed=0' not in output and 'unreachable=0' not in output:\n",
    "        return output\n",
    "    else:\n",
    "        output = sb.getoutput(create_lv)\n",
    "        if 'failed=0' not in output and 'unreachable=0' not in output:\n",
    "            return output\n",
    "        else:\n",
    "            output = sb.getoutput(formate_part)\n",
    "            if 'failed=0' not in output and 'unreachable=0' not in output:\n",
    "                return output\n",
    "            else:\n",
    "                output = sb.getoutput(mount_part)\n",
    "                if 'failed=0' in output and 'unreachable=0' in output:\n",
    "                    return output\n",
    "                else:\n",
    "                    return \"failed=1\""
   ]
  },
  {
   "cell_type": "markdown",
   "metadata": {},
   "source": [
    "# Strings for commands"
   ]
  },
  {
   "cell_type": "markdown",
   "metadata": {},
   "source": [
    "#### write your playbook command in the corresponding string\n",
    "##### example: send_mail = \"ansible-playbook mail.yml\""
   ]
  },
  {
   "cell_type": "code",
   "execution_count": 9,
   "metadata": {},
   "outputs": [],
   "source": [
    "# config_http = 'ansible-playbook ./playbooks/http_server.yml'\n",
    "# service_mgm = 'ansible-playbook ./playbooks/service_manage.yml --extra-vars \"service='+service+' states='+state+'\"'\n",
    "# basic_command = \"ansible-playbook ./playbooks/linux_command.yml --extra-vars 'commands=\\'\"+service+\"\\''\"\n",
    "# launch_dock = \"ansible-playbook myansible_progs/docker.yml\"\n",
    "\n",
    "launch_firefox = \"\"\n",
    "launch_vlc = \"\"\n",
    "launch_gedit = \"\"\n",
    "\n",
    "launch_ec2 = 'ansible-playbook --vault-password-file=secret final_playbooks/web.yml'\n",
    "launch_s3 = 'ansible-playbook --vault-password-file=secret final_playbooks/s3.yml'\n",
    "\n",
    "send_mail = \"ansible-playbook --vault-password-file=secret final_playbooks/email.yml\"\n",
    "\n",
    "create_part = \"ansible-playbook Ansible\\ Code/part.yml --extra-vars 'disk=/dev/sdb end=1GiB'\"\n",
    "formate_part = 'ansible-playbook Ansible\\ Code/mkfs.yml --extra-vars \"dev1=/dev/sdb1 type1=ext4\"'\n",
    "mount_part = 'ansible-playbook  Ansible\\ Code/mount.yml --extra-vars \"state=mounted  device=/dev/sdb1 type=ext4 point=/pg\"'\n",
    "\n",
    "create_vg = 'ansible-playbook  Ansible\\ Code/vg.yml --extra-vars \"state=present  pvlist=/dev/sdb1  vgname=yellow size=32\"'\n",
    "create_lv = 'ansible-playbook  Ansible\\ Code/lv.yml --extra-vars \"sta=present  device=/dev/sdb1  vgname=yellow lvname=yeo size=700M\"'\n",
    "formate_part = 'ansible-playbook Ansible\\ Code/mkfs.yml --extra-vars \"dev1=/dev/yellow/yeo type1=ext4\"'\n",
    "mount_part =  'ansible-playbook  Ansible\\ Code/mount.yml --extra-vars \"state=mounted  device=/dev/yellow/yeo type=ext4 point=/p1\"'\n",
    "\n",
    "yum_config = 'ansible-playbook final_playbooks/yum.yml'\n",
    "\n",
    "# create_hadoop = \"python36 myansible_progs/menu_project.py\"\n",
    "\n",
    "\n"
   ]
  },
  {
   "cell_type": "markdown",
   "metadata": {},
   "source": [
    "### Write your playbook command string (written above) in sb.getoutput()\n",
    "####  example: sb.getoutput(send_mail)\n",
    "##### send_mail is defined above"
   ]
  },
  {
   "cell_type": "code",
   "execution_count": 10,
   "metadata": {},
   "outputs": [],
   "source": [
    "import pyttsx3 as tts\n",
    "speaker = tts.init()\n",
    "\n",
    "def functionality(choice):\n",
    "    print(choice)\n",
    "    if ('http server' in choice or 'web server' in choice) and 'configure' in choice:\n",
    "        if 'local network' in choice:\n",
    "            host = 'local'\n",
    "        else:\n",
    "            host = 'a w s'\n",
    "        output = sb.getoutput(configure_hhtp_server(host))\n",
    "        \n",
    "        \n",
    "    elif 'service' in choice and 'start' in choice:\n",
    "        output = service_management('httpd',  'start')\n",
    "        \n",
    "        \n",
    "    elif 'service' in choice and 'stop' in choice:\n",
    "        output = service_management('httpd',  'stop')\n",
    "        \n",
    "        \n",
    "    elif 'launch' in choice and 'ec2' in choice:\n",
    "        output = sb.getoutput(launch_ec2)\n",
    "        \n",
    "        \n",
    "    elif 'launch' in choice and 's3' in choice:\n",
    "        output = sb.getoutput(launch_s3)\n",
    "        \n",
    "        \n",
    "    elif 'send' in choice and 'mail' in choice:\n",
    "        output = sb.getoutput(send_mail)\n",
    "        \n",
    "        \n",
    "    elif 'create' in choice and 'partition' in choice:\n",
    "        if 'local network' in choice:\n",
    "            host = 'local'\n",
    "        else:\n",
    "            host = 'a w s'\n",
    "        output = sb.getoutput(create_partition(host))\n",
    "        \n",
    "        \n",
    "    elif 'create' in choice and 'partition' in choice:\n",
    "        if 'local network' in choice:\n",
    "            host = 'local'\n",
    "        else:\n",
    "            host = 'a w s'\n",
    "        output = sb.getoutput(create_partition(host))\n",
    "        \n",
    "        \n",
    "    elif 'configure' in choice and 'yum' in choice:\n",
    "        output = sb.getoutput(yum_config)\n",
    "        \n",
    "        \n",
    "#     elif 'create' in choice and 'hadoop' in choice:\n",
    "#         output = sb.getoutput(create_hadoop)\n",
    "        \n",
    "    else:\n",
    "        return \"End\"\n",
    "    return output\n"
   ]
  },
  {
   "cell_type": "code",
   "execution_count": 11,
   "metadata": {},
   "outputs": [],
   "source": [
    "def menu():\n",
    "    print(\"\"\"\n",
    "    1. Configure a web server on LAN\n",
    "    2. Configure a web server on AWS\n",
    "    3. Start a service\n",
    "    4. Stop a service\n",
    "    5. Launch firefox\n",
    "    6. Launch gedit\n",
    "    7. Create partitons on disk\n",
    "    8. Create a logical volume\n",
    "    9. Configure yum on local or remote machine\n",
    "    10. Create a hadoop cluster\n",
    "    11. Launch an EC2 instance\n",
    "    12. Launch an S3 bucket\n",
    "    13. Send an email\n",
    "    14. Exit\n",
    "    \"\"\")"
   ]
  },
  {
   "cell_type": "markdown",
   "metadata": {},
   "source": [
    "# Socket server\n",
    "## DO NOT EDIT THIS OR ADD ANYTHING IN THIS"
   ]
  },
  {
   "cell_type": "code",
   "execution_count": null,
   "metadata": {
    "scrolled": false
   },
   "outputs": [
    {
     "name": "stdout",
     "output_type": "stream",
     "text": [
      "b'configure yum'\n",
      "configure yum\n"
     ]
    }
   ],
   "source": [
    "import socket\n",
    "import subprocess as sb\n",
    "\n",
    " \n",
    "conn = socket.socket()\n",
    "conn.setsockopt(socket.SOL_SOCKET, socket.SO_REUSEADDR, 1)\n",
    "port = 2222\n",
    "ip = \"192.168.43.190\"\n",
    "conn.bind((ip, port))\n",
    "conn.listen()\n",
    "client, addr = conn.accept()\n",
    "   \n",
    "    \n",
    "while True:\n",
    "        n = client.recv(100)\n",
    "        print(n)\n",
    "        if n.decode() == \"End\":\n",
    "                break\n",
    "        x = n.decode()\n",
    "        output = functionality(x)\n",
    "        if output in \"End\":\n",
    "            client.close()\n",
    "            conn.close()\n",
    "        if 'failed=0' in output and 'unreachable=0' in output:\n",
    "            client.send(\"Configured\".encode())\n",
    "        else:\n",
    "            client.send(\"Could not configure\".encode())\n",
    "client.close()\n",
    "conn.close()"
   ]
  },
  {
   "cell_type": "code",
   "execution_count": null,
   "metadata": {},
   "outputs": [],
   "source": []
  },
  {
   "cell_type": "code",
   "execution_count": null,
   "metadata": {},
   "outputs": [],
   "source": []
  },
  {
   "cell_type": "code",
   "execution_count": null,
   "metadata": {},
   "outputs": [],
   "source": []
  },
  {
   "cell_type": "markdown",
   "metadata": {},
   "source": [
    "# Test function\n",
    "## DO NOT EDIT THIS OR ADD ANYTHING IN THIS"
   ]
  },
  {
   "cell_type": "code",
   "execution_count": null,
   "metadata": {},
   "outputs": [],
   "source": [
    "import pyttsx3\n",
    "import subprocess as sb\n",
    "import speech_recognition as sr"
   ]
  },
  {
   "cell_type": "code",
   "execution_count": null,
   "metadata": {},
   "outputs": [],
   "source": [
    "# speaker = pyttsx3.init()\n",
    "# speaker.say(\"Waiting for your command\")\n",
    "# speaker.runAndWait()"
   ]
  },
  {
   "cell_type": "code",
   "execution_count": null,
   "metadata": {},
   "outputs": [],
   "source": []
  },
  {
   "cell_type": "code",
   "execution_count": null,
   "metadata": {},
   "outputs": [],
   "source": [
    "output = functionality('web server start')"
   ]
  },
  {
   "cell_type": "code",
   "execution_count": null,
   "metadata": {},
   "outputs": [],
   "source": [
    "if 'failed=0' in output and 'unreachable=0' in output:\n",
    "    print(\"Configured\")"
   ]
  },
  {
   "cell_type": "code",
   "execution_count": null,
   "metadata": {},
   "outputs": [],
   "source": []
  }
 ],
 "metadata": {
  "kernelspec": {
   "display_name": "Python 3",
   "language": "python",
   "name": "python3"
  },
  "language_info": {
   "codemirror_mode": {
    "name": "ipython",
    "version": 3
   },
   "file_extension": ".py",
   "mimetype": "text/x-python",
   "name": "python",
   "nbconvert_exporter": "python",
   "pygments_lexer": "ipython3",
   "version": "3.6.6"
  }
 },
 "nbformat": 4,
 "nbformat_minor": 2
}
